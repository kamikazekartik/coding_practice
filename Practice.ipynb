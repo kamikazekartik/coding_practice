{
 "cells": [
  {
   "cell_type": "code",
   "execution_count": 1,
   "metadata": {},
   "outputs": [],
   "source": [
    "l1 = [1,2,3]"
   ]
  },
  {
   "cell_type": "code",
   "execution_count": 2,
   "metadata": {},
   "outputs": [],
   "source": [
    "l1.append(4)"
   ]
  },
  {
   "cell_type": "code",
   "execution_count": 3,
   "metadata": {},
   "outputs": [
    {
     "data": {
      "text/plain": [
       "[1, 2, 3, 4]"
      ]
     },
     "execution_count": 3,
     "metadata": {},
     "output_type": "execute_result"
    }
   ],
   "source": [
    "l1"
   ]
  },
  {
   "cell_type": "code",
   "execution_count": 13,
   "metadata": {},
   "outputs": [
    {
     "name": "stdout",
     "output_type": "stream",
     "text": [
      "[1, 2, 3, 4, 5, 6, 6, 7, 7, 9, 9, 10, 11, 12]\n"
     ]
    }
   ],
   "source": [
    "def spl_sort(l1, l2):\n",
    "\tl3 = []\n",
    "\ti = 0;\n",
    "\tj = 0;\n",
    "\tn1 = len(l1)\n",
    "\tn2 = len(l2)\n",
    "\twhile(i<n1 and j<n2):\n",
    "\t\tif l1[i] < l2[j]:\n",
    "\t\t\tl3.append(l1[i])\n",
    "\t\t\ti += 1\n",
    "\t\telif l1[i] == l2[j]:\n",
    "\t\t\tl3.append(l1[i])\n",
    "\t\t\tl3.append(l2[j])\n",
    "\t\t\ti += 1\n",
    "\t\t\tj += 1\n",
    "\t\telse:\n",
    "\t\t\tl3.append(l2[j])\n",
    "\t\t\tj += 1\n",
    "\tif i < n1:\n",
    "\t\tl3 += l1[i:]\n",
    "\telif j < n2:\n",
    "\t\tl3 += l2[j:]\n",
    "\n",
    "\treturn l3\n",
    "\n",
    "l1 = [1,3,5,7,9,10,11,12]\n",
    "l2 = [2,4,6,6,7,9]\n",
    "\n",
    "print spl_sort(l1, l2)"
   ]
  },
  {
   "cell_type": "code",
   "execution_count": 14,
   "metadata": {},
   "outputs": [
    {
     "data": {
      "text/plain": [
       "[2, 3, 4]"
      ]
     },
     "execution_count": 14,
     "metadata": {},
     "output_type": "execute_result"
    }
   ],
   "source": [
    "range(2,5)"
   ]
  },
  {
   "cell_type": "code",
   "execution_count": 57,
   "metadata": {},
   "outputs": [],
   "source": [
    "def quick_sort(arr, low, high):\n",
    "    if low < high:\n",
    "        pivot = partition(arr, low, high)\n",
    "\n",
    "        quick_sort(arr, low, pivot-1)\n",
    "        print arr[low:pivot-1]\n",
    "        quick_sort(arr, pivot+1, high)\n",
    "        print arr[pivot+1:high]\n",
    "    else:\n",
    "        print \"Sorted!\"\n",
    "        return arr\n",
    "\n",
    "def swap(arr, i, j):\n",
    "\ttemp = arr[i]\n",
    "\tarr[i] = arr[j]\n",
    "\tarr[j] = temp\n",
    "\n",
    "\n",
    "def partition(arr, low, high):\n",
    "\ti = (low-1) # index of smaller elements\n",
    "\tpivot = arr[high] # always pick rightmost element\n",
    "\n",
    "\tj = low\n",
    "\tfor j in range(low, high):\n",
    "\t\tif arr[j] <= pivot:\n",
    "\t\t\ti += 1\n",
    "\t\t\t# swap arr[i] and arr[j]\n",
    "\t\t\tswap(arr, i, j)\n",
    "\t\n",
    "\t# put the pivot in the right place\n",
    "\tswap(arr, i+1, high)\n",
    "\treturn (i+1)"
   ]
  },
  {
   "cell_type": "code",
   "execution_count": 58,
   "metadata": {},
   "outputs": [
    {
     "data": {
      "text/plain": [
       "4"
      ]
     },
     "execution_count": 58,
     "metadata": {},
     "output_type": "execute_result"
    }
   ],
   "source": [
    "l = [10, 80, 30, 90, 40, 50, 70]\n",
    "partition(l, 0, 6)"
   ]
  },
  {
   "cell_type": "code",
   "execution_count": 59,
   "metadata": {},
   "outputs": [
    {
     "data": {
      "text/plain": [
       "[10, 30, 40, 50, 70, 90, 80]"
      ]
     },
     "execution_count": 59,
     "metadata": {},
     "output_type": "execute_result"
    }
   ],
   "source": [
    "l"
   ]
  },
  {
   "cell_type": "code",
   "execution_count": 60,
   "metadata": {},
   "outputs": [
    {
     "name": "stdout",
     "output_type": "stream",
     "text": [
      "Sorted!\n",
      "[]\n",
      "Sorted!\n",
      "[]\n",
      "[10]\n",
      "Sorted!\n",
      "[]\n",
      "[10, 30]\n",
      "Sorted!\n",
      "[]\n",
      "[10, 30, 40]\n",
      "Sorted!\n",
      "[]\n",
      "[10, 30, 40, 50]\n",
      "Sorted!\n",
      "[]\n"
     ]
    }
   ],
   "source": [
    "quick_sort(l, 0, 6)"
   ]
  },
  {
   "cell_type": "code",
   "execution_count": 40,
   "metadata": {},
   "outputs": [
    {
     "data": {
      "text/plain": [
       "[10, 30, 40, 50, 70, 80, 90]"
      ]
     },
     "execution_count": 40,
     "metadata": {},
     "output_type": "execute_result"
    }
   ],
   "source": [
    "l"
   ]
  },
  {
   "cell_type": "code",
   "execution_count": 65,
   "metadata": {},
   "outputs": [],
   "source": [
    "a = [1,2,3,4,5,6,7,8,9]"
   ]
  },
  {
   "cell_type": "code",
   "execution_count": null,
   "metadata": {},
   "outputs": [],
   "source": []
  },
  {
   "cell_type": "code",
   "execution_count": 66,
   "metadata": {},
   "outputs": [
    {
     "data": {
      "text/plain": [
       "[3, 4, 5]"
      ]
     },
     "execution_count": 66,
     "metadata": {},
     "output_type": "execute_result"
    }
   ],
   "source": [
    "a[2:5]"
   ]
  },
  {
   "cell_type": "code",
   "execution_count": 67,
   "metadata": {},
   "outputs": [
    {
     "data": {
      "text/plain": [
       "[1, 2, 9, 9, 9, 6, 7, 8, 9]"
      ]
     },
     "execution_count": 67,
     "metadata": {},
     "output_type": "execute_result"
    }
   ],
   "source": [
    "a[2:5] = [9,9,9]\n",
    "a"
   ]
  },
  {
   "cell_type": "code",
   "execution_count": 165,
   "metadata": {},
   "outputs": [],
   "source": [
    "def merge_sort(arr, low, high):\n",
    "    if low >= high:\n",
    "        return\n",
    "\n",
    "    mid = (low + high)/2\n",
    "    print \"merge_sort:\", low, mid, high\n",
    "    merge_sort(arr, low, mid)\n",
    "    merge_sort(arr, mid+1, high)\n",
    "\n",
    "    merge(arr, low, mid, high)\n",
    "\n",
    "def merge(arr, low, mid, high):\n",
    "    new_arr = []\n",
    "    i = low\n",
    "    j = mid+1\n",
    "    n1 = (mid+1 - low)\n",
    "    n2 = (high - mid)\n",
    "    while(i<=mid and j<=high):\n",
    "        if arr[i] <= arr[j]:\n",
    "            new_arr.append(arr[i])\n",
    "            i += 1\n",
    "        else:\n",
    "            new_arr.append(arr[j])\n",
    "            j += 1\n",
    "    new_arr += arr[i:mid+1]\n",
    "    new_arr += arr[j:high+1]\n",
    "    \n",
    "    arr[low:(high+1)] = new_arr\n",
    "    print arr, len(arr[low:high]), len(new_arr)\n",
    "    print new_arr"
   ]
  },
  {
   "cell_type": "code",
   "execution_count": 166,
   "metadata": {},
   "outputs": [
    {
     "name": "stdout",
     "output_type": "stream",
     "text": [
      "merge_sort: 0 3 6\n",
      "merge_sort: 0 1 3\n",
      "merge_sort: 0 0 1\n",
      "hi! 0 1 0 1 1\n",
      "[10, 80] [10, 80, 30, 90, 40, 50, 70]\n",
      "[10, 80, 30, 90, 40, 50, 70] 1 2\n",
      "[10, 80]\n",
      "merge_sort: 2 2 3\n",
      "hi! 2 3 2 3 3\n",
      "[30, 90] [10, 80, 30, 90, 40, 50, 70]\n",
      "[10, 80, 30, 90, 40, 50, 70] 1 2\n",
      "[30, 90]\n",
      "hi! 0 3 1 2 3\n",
      "[10, 30, 80, 90] [10, 80, 30, 90, 40, 50, 70]\n",
      "[10, 30, 80, 90, 40, 50, 70] 3 4\n",
      "[10, 30, 80, 90]\n",
      "merge_sort: 4 5 6\n",
      "merge_sort: 4 4 5\n",
      "hi! 4 5 4 5 5\n",
      "[40, 50] [10, 30, 80, 90, 40, 50, 70]\n",
      "[10, 30, 80, 90, 40, 50, 70] 1 2\n",
      "[40, 50]\n",
      "hi! 4 6 5 6 6\n",
      "[40, 50, 70] [10, 30, 80, 90, 40, 50, 70]\n",
      "[10, 30, 80, 90, 40, 50, 70] 2 3\n",
      "[40, 50, 70]\n",
      "hi! 0 6 3 2 7\n",
      "[10, 30, 40, 50, 70, 80, 90] [10, 30, 80, 90, 40, 50, 70]\n",
      "[10, 30, 40, 50, 70, 80, 90] 6 7\n",
      "[10, 30, 40, 50, 70, 80, 90]\n"
     ]
    }
   ],
   "source": [
    "l = [10, 80, 30, 90, 40, 50, 70]\n",
    "merge_sort(l, 0, 6)"
   ]
  },
  {
   "cell_type": "code",
   "execution_count": 167,
   "metadata": {},
   "outputs": [
    {
     "data": {
      "text/plain": [
       "[10, 30, 40, 50, 70, 80, 90]"
      ]
     },
     "execution_count": 167,
     "metadata": {},
     "output_type": "execute_result"
    }
   ],
   "source": [
    "l"
   ]
  },
  {
   "cell_type": "code",
   "execution_count": 120,
   "metadata": {},
   "outputs": [
    {
     "data": {
      "text/plain": [
       "[3]"
      ]
     },
     "execution_count": 120,
     "metadata": {},
     "output_type": "execute_result"
    }
   ],
   "source": [
    "l = [1,2,3,4]\n",
    "l[2:3]"
   ]
  },
  {
   "cell_type": "code",
   "execution_count": null,
   "metadata": {},
   "outputs": [],
   "source": []
  }
 ],
 "metadata": {
  "kernelspec": {
   "display_name": "Python 2",
   "language": "python",
   "name": "python2"
  },
  "language_info": {
   "codemirror_mode": {
    "name": "ipython",
    "version": 2
   },
   "file_extension": ".py",
   "mimetype": "text/x-python",
   "name": "python",
   "nbconvert_exporter": "python",
   "pygments_lexer": "ipython2",
   "version": "2.7.10"
  }
 },
 "nbformat": 4,
 "nbformat_minor": 2
}
